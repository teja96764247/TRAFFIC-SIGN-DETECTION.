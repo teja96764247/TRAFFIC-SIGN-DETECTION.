{
  "nbformat": 4,
  "nbformat_minor": 0,
  "metadata": {
    "colab": {
      "provenance": [],
      "gpuType": "T4"
    },
    "kernelspec": {
      "name": "python3",
      "display_name": "Python 3"
    },
    "language_info": {
      "name": "python"
    },
    "accelerator": "GPU"
  },
  "cells": [
    {
      "cell_type": "code",
      "execution_count": 1,
      "metadata": {
        "id": "UEfVVeCHoG3M"
      },
      "outputs": [],
      "source": [
        "!mkdir -p ~/.kaggle\n",
        "!cp kaggle.json ~/.kaggle/\n",
        "!chmod 600 ~/.kaggle/kaggle.json"
      ]
    },
    {
      "cell_type": "code",
      "source": [
        "!kaggle datasets download -d yugansh121/traffic-sign-datasets"
      ],
      "metadata": {
        "colab": {
          "base_uri": "https://localhost:8080/"
        },
        "id": "Mbcjqk94oMM1",
        "outputId": "7b81ac12-334d-43ed-e0f1-e322c552f982"
      },
      "execution_count": 2,
      "outputs": [
        {
          "output_type": "stream",
          "name": "stdout",
          "text": [
            "Downloading traffic-sign-datasets.zip to /content\n",
            "100% 1.37G/1.37G [01:15<00:00, 23.1MB/s]\n",
            "100% 1.37G/1.37G [01:15<00:00, 19.4MB/s]\n"
          ]
        }
      ]
    },
    {
      "cell_type": "code",
      "source": [
        "from zipfile import ZipFile\n",
        "dataset = '/content/traffic-sign-datasets.zip'\n",
        "\n",
        "with ZipFile(dataset,'r') as zip:\n",
        "  zip.extractall()\n",
        "  print('The dataset is extracted')"
      ],
      "metadata": {
        "colab": {
          "base_uri": "https://localhost:8080/"
        },
        "id": "oDdMQMCn1ek7",
        "outputId": "995f3d40-35aa-49ac-8d5c-77e199a2d921"
      },
      "execution_count": 4,
      "outputs": [
        {
          "output_type": "stream",
          "name": "stdout",
          "text": [
            "The dataset is extracted\n"
          ]
        }
      ]
    },
    {
      "cell_type": "code",
      "source": [
        "import numpy as np\n",
        "import pandas as pd\n",
        "import matplotlib.pyplot as plt\n",
        "import os\n",
        "import cv2\n",
        "from PIL import Image\n",
        "from google.colab.patches import cv2_imshow"
      ],
      "metadata": {
        "id": "GhyqUEYmpj96"
      },
      "execution_count": 6,
      "outputs": []
    },
    {
      "cell_type": "code",
      "source": [
        "data=[]"
      ],
      "metadata": {
        "id": "kLfc08dX3Vhy"
      },
      "execution_count": 9,
      "outputs": []
    },
    {
      "cell_type": "code",
      "source": [
        "indian_folder=os.listdir('/content/Indian Traffic Signs Prediction(85 classes)/Indian Traffic Signs Prediction(85 classes)/train')\n",
        "print(indian_folder)\n",
        "print(len(indian_folder))"
      ],
      "metadata": {
        "colab": {
          "base_uri": "https://localhost:8080/"
        },
        "id": "WN9br2XZp8kX",
        "outputId": "7ae0723b-48fa-4409-f7d9-eae3d89c7c19"
      },
      "execution_count": 8,
      "outputs": [
        {
          "output_type": "stream",
          "name": "stdout",
          "text": [
            "['SPEED_LIMIT_70', 'PEDESTRIAN_CROSSING', 'NO_STOPPING_OR_STANDING', 'SPEED_LIMIT_40', 'HORN_PROHIBITED', 'NO_ENTRY', 'HUMP_OR_ROUGH_ROAD', 'CROSS_ROAD', 'LEFT_TURN_PROHIBITED', 'GAP_IN_MEDIAN', 'SPEED_LIMIT_80', 'SPEED_LIMIT_60', 'SPEED_LIMIT_50', 'COMPULSARY_KEEP_RIGHT', 'SPEED_LIMIT_30']\n",
            "15\n"
          ]
        }
      ]
    },
    {
      "cell_type": "code",
      "source": [
        "for i in range(15):\n",
        "  folder_path='/content/Indian Traffic Signs Prediction(85 classes)/Indian Traffic Signs Prediction(85 classes)/train/'+indian_folder[i]\n",
        "  img_folder=os.listdir(folder_path)\n",
        "  l=len(img_folder)\n",
        "  for j in range(l):\n",
        "    img_path=folder_path+'/'+img_folder[j]\n",
        "    img_pillow=Image.open(img_path)\n",
        "    img_color=img_pillow.convert('RGB')\n",
        "    img_resize=img_color.resize((64,64))\n",
        "    img_arr=np.array(img_resize)\n",
        "    data.append([img_arr,indian_folder[i]])"
      ],
      "metadata": {
        "id": "oiJehNCH3Gy5"
      },
      "execution_count": 10,
      "outputs": []
    },
    {
      "cell_type": "code",
      "source": [
        "persian_folder=os.listdir('/content/Persian Traffic Sign Dataset (PTSD)/Persian Traffic Sign Dataset (PTSD)/train')\n",
        "print(persian_folder)\n",
        "print(len(persian_folder))"
      ],
      "metadata": {
        "colab": {
          "base_uri": "https://localhost:8080/"
        },
        "id": "csXsqCz13G3l",
        "outputId": "43b0c87c-19a3-4e23-e446-59a258068bb4"
      },
      "execution_count": 14,
      "outputs": [
        {
          "output_type": "stream",
          "name": "stdout",
          "text": [
            "['No Entry', 'Compulsory Keep BothSide', 'Pedestrain', 'Right Margin', 'Compulsory Keep Right', 'One way Traffic', 'Cycle crossing', 'NO Stopping', 'Maximum Speed 30', 'Danger', 'Roundabouts', 'Right Turn Prohibited']\n",
            "12\n"
          ]
        }
      ]
    },
    {
      "cell_type": "code",
      "source": [
        "for i in range(12):\n",
        "  folder_path='/content/Persian Traffic Sign Dataset (PTSD)/Persian Traffic Sign Dataset (PTSD)/train/'+persian_folder[i]\n",
        "  img_folder=os.listdir(folder_path)\n",
        "  l=len(img_folder)\n",
        "  for j in range(l):\n",
        "    img_path=folder_path+'/'+img_folder[j]\n",
        "    img_pillow=Image.open(img_path)\n",
        "    img_color=img_pillow.convert('RGB')\n",
        "    img_resize=img_color.resize((64,64))\n",
        "    img_arr=np.array(img_resize)\n",
        "    data.append([img_arr,persian_folder[i]])"
      ],
      "metadata": {
        "id": "h9-NZDJq3G5p"
      },
      "execution_count": 15,
      "outputs": []
    },
    {
      "cell_type": "code",
      "source": [
        "len(data)"
      ],
      "metadata": {
        "colab": {
          "base_uri": "https://localhost:8080/"
        },
        "id": "BAVB6St83G95",
        "outputId": "b9d22a3f-4a9a-4597-cadd-1862e6613e81"
      },
      "execution_count": 16,
      "outputs": [
        {
          "output_type": "execute_result",
          "data": {
            "text/plain": [
              "10573"
            ]
          },
          "metadata": {},
          "execution_count": 16
        }
      ]
    },
    {
      "cell_type": "code",
      "source": [
        "x=[]\n",
        "y=[]\n",
        "for img,label in data:\n",
        "  x.append(img)\n",
        "  y.append(label)"
      ],
      "metadata": {
        "id": "M6WSxpbiqlN3"
      },
      "execution_count": 17,
      "outputs": []
    },
    {
      "cell_type": "code",
      "source": [
        "x=np.array(x)\n",
        "y=np.array(y)"
      ],
      "metadata": {
        "id": "6qfnKMHGrLCg"
      },
      "execution_count": 18,
      "outputs": []
    },
    {
      "cell_type": "code",
      "source": [
        "from sklearn.preprocessing import LabelEncoder\n",
        "encoder=LabelEncoder()\n",
        "y=encoder.fit_transform(y)"
      ],
      "metadata": {
        "id": "8INi_DTg5hKD"
      },
      "execution_count": 19,
      "outputs": []
    },
    {
      "cell_type": "code",
      "source": [
        "print(np.unique(y))"
      ],
      "metadata": {
        "colab": {
          "base_uri": "https://localhost:8080/"
        },
        "id": "WS6lxDrg51ch",
        "outputId": "162ff2ff-a1d2-4fa0-8894-5947065c5598"
      },
      "execution_count": 23,
      "outputs": [
        {
          "output_type": "stream",
          "name": "stdout",
          "text": [
            "[ 0  1  2  3  4  5  6  7  8  9 10 11 12 13 14 15 16 17 18 19 20 21 22 23\n",
            " 24 25 26]\n"
          ]
        }
      ]
    },
    {
      "cell_type": "code",
      "source": [
        "y_encoded=encoder.inverse_transform(np.unique(y))"
      ],
      "metadata": {
        "id": "p8Vn04HY53gd"
      },
      "execution_count": 24,
      "outputs": []
    },
    {
      "cell_type": "code",
      "source": [
        "print(y_encoded)"
      ],
      "metadata": {
        "colab": {
          "base_uri": "https://localhost:8080/"
        },
        "id": "KZZZ7Zwp5_Tb",
        "outputId": "cd452c25-195f-4c83-c659-39e1f24b8eda"
      },
      "execution_count": 25,
      "outputs": [
        {
          "output_type": "stream",
          "name": "stdout",
          "text": [
            "['COMPULSARY_KEEP_RIGHT' 'CROSS_ROAD' 'Compulsory Keep BothSide'\n",
            " 'Compulsory Keep Right' 'Cycle crossing' 'Danger' 'GAP_IN_MEDIAN'\n",
            " 'HORN_PROHIBITED' 'HUMP_OR_ROUGH_ROAD' 'LEFT_TURN_PROHIBITED'\n",
            " 'Maximum Speed 30' 'NO Stopping' 'NO_ENTRY' 'NO_STOPPING_OR_STANDING'\n",
            " 'No Entry' 'One way Traffic' 'PEDESTRIAN_CROSSING' 'Pedestrain'\n",
            " 'Right Margin' 'Right Turn Prohibited' 'Roundabouts' 'SPEED_LIMIT_30'\n",
            " 'SPEED_LIMIT_40' 'SPEED_LIMIT_50' 'SPEED_LIMIT_60' 'SPEED_LIMIT_70'\n",
            " 'SPEED_LIMIT_80']\n"
          ]
        }
      ]
    },
    {
      "cell_type": "code",
      "source": [
        "from sklearn.model_selection import train_test_split\n",
        "x_train,x_test,y_train,y_test=train_test_split(x,y,test_size=0.1,random_state=0)"
      ],
      "metadata": {
        "id": "HXPsXEpnrNv-"
      },
      "execution_count": 26,
      "outputs": []
    },
    {
      "cell_type": "code",
      "source": [
        "x_train_scaled=x_train/255\n",
        "x_test_scaled=x_test/255"
      ],
      "metadata": {
        "id": "p941DMmirgPN"
      },
      "execution_count": 27,
      "outputs": []
    },
    {
      "cell_type": "code",
      "source": [
        "import tensorflow as tf\n",
        "from tensorflow import keras"
      ],
      "metadata": {
        "id": "kLOjSczUrmeG"
      },
      "execution_count": 28,
      "outputs": []
    },
    {
      "cell_type": "code",
      "source": [
        "num_of_classes=27\n",
        "model=keras.Sequential()\n",
        "\n",
        "model.add(keras.layers.Conv2D(32,kernel_size=(3,3),activation='relu',input_shape=(64,64,3)))\n",
        "model.add(keras.layers.MaxPooling2D(pool_size=(2,2)))\n",
        "\n",
        "model.add(keras.layers.Conv2D(64,kernel_size=(3,3),activation='relu'))\n",
        "model.add(keras.layers.MaxPooling2D(pool_size=(2,2)))\n",
        "\n",
        "model.add(keras.layers.Flatten())\n",
        "\n",
        "model.add(keras.layers.Dense(128,activation='relu'))\n",
        "model.add(keras.layers.Dropout(0.5))\n",
        "\n",
        "model.add(keras.layers.Dense(64,activation='relu'))\n",
        "model.add(keras.layers.Dropout(0.5))\n",
        "\n",
        "model.add(keras.layers.Dense(num_of_classes,activation='softmax'))"
      ],
      "metadata": {
        "id": "oxmGoZgzrudU"
      },
      "execution_count": 29,
      "outputs": []
    },
    {
      "cell_type": "code",
      "source": [
        "model.compile(optimizer='adam',loss='sparse_categorical_crossentropy',metrics=['accuracy'])"
      ],
      "metadata": {
        "id": "HRVep3ptr2X_"
      },
      "execution_count": 30,
      "outputs": []
    },
    {
      "cell_type": "code",
      "source": [
        "model.fit(x_train_scaled,y_train,epochs=50,validation_split=0.1)"
      ],
      "metadata": {
        "colab": {
          "base_uri": "https://localhost:8080/"
        },
        "id": "v9VaVT0Mr-gO",
        "outputId": "6c0b6504-f063-4017-df4f-5846f576a80b"
      },
      "execution_count": 33,
      "outputs": [
        {
          "output_type": "stream",
          "name": "stdout",
          "text": [
            "Epoch 1/50\n",
            "268/268 [==============================] - 2s 8ms/step - loss: 0.3649 - accuracy: 0.8720 - val_loss: 0.2584 - val_accuracy: 0.9422\n",
            "Epoch 2/50\n",
            "268/268 [==============================] - 2s 8ms/step - loss: 0.3529 - accuracy: 0.8790 - val_loss: 0.2786 - val_accuracy: 0.9422\n",
            "Epoch 3/50\n",
            "268/268 [==============================] - 2s 7ms/step - loss: 0.3667 - accuracy: 0.8734 - val_loss: 0.2684 - val_accuracy: 0.9349\n",
            "Epoch 4/50\n",
            "268/268 [==============================] - 2s 7ms/step - loss: 0.3404 - accuracy: 0.8837 - val_loss: 0.2874 - val_accuracy: 0.9349\n",
            "Epoch 5/50\n",
            "268/268 [==============================] - 2s 6ms/step - loss: 0.3448 - accuracy: 0.8803 - val_loss: 0.2596 - val_accuracy: 0.9401\n",
            "Epoch 6/50\n",
            "268/268 [==============================] - 2s 6ms/step - loss: 0.3260 - accuracy: 0.8837 - val_loss: 0.2674 - val_accuracy: 0.9359\n",
            "Epoch 7/50\n",
            "268/268 [==============================] - 2s 6ms/step - loss: 0.3345 - accuracy: 0.8832 - val_loss: 0.2585 - val_accuracy: 0.9328\n",
            "Epoch 8/50\n",
            "268/268 [==============================] - 2s 6ms/step - loss: 0.3213 - accuracy: 0.8867 - val_loss: 0.2763 - val_accuracy: 0.9275\n",
            "Epoch 9/50\n",
            "268/268 [==============================] - 2s 8ms/step - loss: 0.3056 - accuracy: 0.8922 - val_loss: 0.2243 - val_accuracy: 0.9380\n",
            "Epoch 10/50\n",
            "268/268 [==============================] - 2s 8ms/step - loss: 0.3019 - accuracy: 0.8979 - val_loss: 0.2385 - val_accuracy: 0.9307\n",
            "Epoch 11/50\n",
            "268/268 [==============================] - 2s 7ms/step - loss: 0.3123 - accuracy: 0.8935 - val_loss: 0.2196 - val_accuracy: 0.9443\n",
            "Epoch 12/50\n",
            "268/268 [==============================] - 2s 7ms/step - loss: 0.3180 - accuracy: 0.8922 - val_loss: 0.2431 - val_accuracy: 0.9422\n",
            "Epoch 13/50\n",
            "268/268 [==============================] - 2s 7ms/step - loss: 0.2976 - accuracy: 0.8997 - val_loss: 0.2701 - val_accuracy: 0.9391\n",
            "Epoch 14/50\n",
            "268/268 [==============================] - 2s 6ms/step - loss: 0.3089 - accuracy: 0.8938 - val_loss: 0.2762 - val_accuracy: 0.9317\n",
            "Epoch 15/50\n",
            "268/268 [==============================] - 2s 6ms/step - loss: 0.2948 - accuracy: 0.8982 - val_loss: 0.2662 - val_accuracy: 0.9391\n",
            "Epoch 16/50\n",
            "268/268 [==============================] - 2s 7ms/step - loss: 0.2851 - accuracy: 0.9016 - val_loss: 0.2312 - val_accuracy: 0.9338\n",
            "Epoch 17/50\n",
            "268/268 [==============================] - 2s 8ms/step - loss: 0.2918 - accuracy: 0.9014 - val_loss: 0.2489 - val_accuracy: 0.9412\n",
            "Epoch 18/50\n",
            "268/268 [==============================] - 2s 6ms/step - loss: 0.2827 - accuracy: 0.9021 - val_loss: 0.2191 - val_accuracy: 0.9464\n",
            "Epoch 19/50\n",
            "268/268 [==============================] - 2s 6ms/step - loss: 0.2818 - accuracy: 0.9039 - val_loss: 0.2491 - val_accuracy: 0.9559\n",
            "Epoch 20/50\n",
            "268/268 [==============================] - 2s 6ms/step - loss: 0.2830 - accuracy: 0.9040 - val_loss: 0.2275 - val_accuracy: 0.9475\n",
            "Epoch 21/50\n",
            "268/268 [==============================] - 2s 7ms/step - loss: 0.2931 - accuracy: 0.9018 - val_loss: 0.2472 - val_accuracy: 0.9464\n",
            "Epoch 22/50\n",
            "268/268 [==============================] - 2s 7ms/step - loss: 0.2656 - accuracy: 0.9091 - val_loss: 0.2726 - val_accuracy: 0.9454\n",
            "Epoch 23/50\n",
            "268/268 [==============================] - 2s 7ms/step - loss: 0.2694 - accuracy: 0.9077 - val_loss: 0.2252 - val_accuracy: 0.9464\n",
            "Epoch 24/50\n",
            "268/268 [==============================] - 2s 8ms/step - loss: 0.2804 - accuracy: 0.9033 - val_loss: 0.2848 - val_accuracy: 0.9380\n",
            "Epoch 25/50\n",
            "268/268 [==============================] - 2s 7ms/step - loss: 0.2746 - accuracy: 0.9072 - val_loss: 0.2746 - val_accuracy: 0.9464\n",
            "Epoch 26/50\n",
            "268/268 [==============================] - 2s 6ms/step - loss: 0.2734 - accuracy: 0.9081 - val_loss: 0.2388 - val_accuracy: 0.9433\n",
            "Epoch 27/50\n",
            "268/268 [==============================] - 2s 6ms/step - loss: 0.2654 - accuracy: 0.9116 - val_loss: 0.2426 - val_accuracy: 0.9475\n",
            "Epoch 28/50\n",
            "268/268 [==============================] - 2s 7ms/step - loss: 0.2670 - accuracy: 0.9097 - val_loss: 0.2794 - val_accuracy: 0.9485\n",
            "Epoch 29/50\n",
            "268/268 [==============================] - 2s 6ms/step - loss: 0.2591 - accuracy: 0.9112 - val_loss: 0.2459 - val_accuracy: 0.9454\n",
            "Epoch 30/50\n",
            "268/268 [==============================] - 2s 6ms/step - loss: 0.2684 - accuracy: 0.9118 - val_loss: 0.2464 - val_accuracy: 0.9517\n",
            "Epoch 31/50\n",
            "268/268 [==============================] - 2s 8ms/step - loss: 0.2587 - accuracy: 0.9145 - val_loss: 0.2658 - val_accuracy: 0.9454\n",
            "Epoch 32/50\n",
            "268/268 [==============================] - 2s 7ms/step - loss: 0.2600 - accuracy: 0.9128 - val_loss: 0.2343 - val_accuracy: 0.9485\n",
            "Epoch 33/50\n",
            "268/268 [==============================] - 2s 7ms/step - loss: 0.2462 - accuracy: 0.9191 - val_loss: 0.2635 - val_accuracy: 0.9454\n",
            "Epoch 34/50\n",
            "268/268 [==============================] - 2s 6ms/step - loss: 0.2516 - accuracy: 0.9153 - val_loss: 0.2424 - val_accuracy: 0.9496\n",
            "Epoch 35/50\n",
            "268/268 [==============================] - 2s 6ms/step - loss: 0.2837 - accuracy: 0.9066 - val_loss: 0.2395 - val_accuracy: 0.9454\n",
            "Epoch 36/50\n",
            "268/268 [==============================] - 2s 6ms/step - loss: 0.2543 - accuracy: 0.9143 - val_loss: 0.2289 - val_accuracy: 0.9527\n",
            "Epoch 37/50\n",
            "268/268 [==============================] - 2s 7ms/step - loss: 0.2498 - accuracy: 0.9169 - val_loss: 0.2825 - val_accuracy: 0.9422\n",
            "Epoch 38/50\n",
            "268/268 [==============================] - 2s 8ms/step - loss: 0.2362 - accuracy: 0.9183 - val_loss: 0.3064 - val_accuracy: 0.9391\n",
            "Epoch 39/50\n",
            "268/268 [==============================] - 2s 8ms/step - loss: 0.2462 - accuracy: 0.9181 - val_loss: 0.2685 - val_accuracy: 0.9454\n",
            "Epoch 40/50\n",
            "268/268 [==============================] - 2s 6ms/step - loss: 0.2348 - accuracy: 0.9204 - val_loss: 0.3020 - val_accuracy: 0.9391\n",
            "Epoch 41/50\n",
            "268/268 [==============================] - 2s 6ms/step - loss: 0.2494 - accuracy: 0.9147 - val_loss: 0.2832 - val_accuracy: 0.9412\n",
            "Epoch 42/50\n",
            "268/268 [==============================] - 2s 6ms/step - loss: 0.2521 - accuracy: 0.9151 - val_loss: 0.3034 - val_accuracy: 0.9454\n",
            "Epoch 43/50\n",
            "268/268 [==============================] - 2s 6ms/step - loss: 0.2383 - accuracy: 0.9218 - val_loss: 0.2643 - val_accuracy: 0.9548\n",
            "Epoch 44/50\n",
            "268/268 [==============================] - 2s 7ms/step - loss: 0.2486 - accuracy: 0.9155 - val_loss: 0.2875 - val_accuracy: 0.9391\n",
            "Epoch 45/50\n",
            "268/268 [==============================] - 2s 7ms/step - loss: 0.2282 - accuracy: 0.9237 - val_loss: 0.2521 - val_accuracy: 0.9485\n",
            "Epoch 46/50\n",
            "268/268 [==============================] - 2s 8ms/step - loss: 0.2383 - accuracy: 0.9205 - val_loss: 0.2767 - val_accuracy: 0.9506\n",
            "Epoch 47/50\n",
            "268/268 [==============================] - 2s 7ms/step - loss: 0.2278 - accuracy: 0.9227 - val_loss: 0.2756 - val_accuracy: 0.9433\n",
            "Epoch 48/50\n",
            "268/268 [==============================] - 2s 6ms/step - loss: 0.2185 - accuracy: 0.9260 - val_loss: 0.2788 - val_accuracy: 0.9506\n",
            "Epoch 49/50\n",
            "268/268 [==============================] - 2s 6ms/step - loss: 0.2270 - accuracy: 0.9255 - val_loss: 0.2803 - val_accuracy: 0.9485\n",
            "Epoch 50/50\n",
            "268/268 [==============================] - 2s 6ms/step - loss: 0.2470 - accuracy: 0.9215 - val_loss: 0.2681 - val_accuracy: 0.9464\n"
          ]
        },
        {
          "output_type": "execute_result",
          "data": {
            "text/plain": [
              "<keras.src.callbacks.History at 0x7bdb9c58e2c0>"
            ]
          },
          "metadata": {},
          "execution_count": 33
        }
      ]
    },
    {
      "cell_type": "code",
      "source": [
        "img_path='/content/Persian Traffic Sign Dataset (PTSD)/Persian Traffic Sign Dataset (PTSD)/train/One way Traffic/22_00001.jpg'\n",
        "img_pillow=Image.open(img_path)\n",
        "img_color=img_pillow.convert('RGB')\n",
        "img_resize=img_color.resize((64,64))\n",
        "img_arr=np.array(img_resize)\n",
        "cv2_imshow(img_arr)\n",
        "img_scaled=img_arr/255\n",
        "img_reshaped=np.reshape(img_scaled,[1,64,64,3])\n",
        "prediction=model.predict(img_reshaped)\n",
        "output=np.argmax(prediction)\n",
        "if(output==0):\n",
        "  print('The Traffic Sign is COMPULSARY_KEEP_RIGHT')\n",
        "elif(output==1):\n",
        "  print('The Traffic Sign is CROSS_ROAD')\n",
        "elif(output==2):\n",
        "  print('The Traffic Sign is Compulsory Keep BothSide')\n",
        "elif(output==3):\n",
        "  print('The Traffic Sign is Compulsory Keep Right')\n",
        "elif(output==4):\n",
        "  print('The Traffic Sign is Cycle crossing')\n",
        "elif(output==5):\n",
        "  print('The Traffic Sign is Danger')\n",
        "elif(output==6):\n",
        "  print('The Traffic Sign is GAP_IN_MEDIAN')\n",
        "elif(output==7):\n",
        "  print('The Traffic Sign is HORN_PROHIBITED')\n",
        "elif(output==8):\n",
        "  print('The Traffic Sign is HUMP_OR_ROUGH_ROAD')\n",
        "elif(output==9):\n",
        "  print('The Traffic Sign is LEFT_TURN_PROHIBITED')\n",
        "elif(output==10):\n",
        "  print('The Traffic Sign is Maximum Speed 30')\n",
        "elif(output==11):\n",
        "  print('The Traffic Sign is NO Stopping')\n",
        "elif(output==12):\n",
        "  print('The Traffic Sign is NO_ENTRY')\n",
        "elif(output==13):\n",
        "  print('The Traffic Sign is NO_STOPPING_OR_STANDING')\n",
        "elif(output==14):\n",
        "  print('The Traffic Sign is No Entry')\n",
        "elif(output==15):\n",
        "  print('The Traffic Sign is One way Traffic')\n",
        "elif(output==16):\n",
        "  print('The Traffic Sign is PEDESTRIAN_CROSSING')\n",
        "elif(output==17):\n",
        "  print('The Traffic Sign is Pedestrain')\n",
        "elif(output==18):\n",
        "  print('The Traffic Sign is Right Margin')\n",
        "elif(output==19):\n",
        "  print('The Traffic Sign is Right Turn Prohibited')\n",
        "elif(output==20):\n",
        "  print('The Traffic Sign is Roundabouts')\n",
        "elif(output==21):\n",
        "  print('The Traffic Sign is SPEED_LIMIT_30')\n",
        "elif(output==22):\n",
        "  print('The Traffic Sign is SPEED_LIMIT_40')\n",
        "elif(output==23):\n",
        "  print('The Traffic Sign is SPEED_LIMIT_50')\n",
        "elif(output==24):\n",
        "  print('The Traffic Sign is SPEED_LIMIT_60')\n",
        "elif(output==25):\n",
        "  print('The Traffic Sign is SPEED_LIMIT_70')\n",
        "elif(output==26):\n",
        "  print('The Traffic Sign is SPEED_LIMIT_80')"
      ],
      "metadata": {
        "colab": {
          "base_uri": "https://localhost:8080/",
          "height": 116
        },
        "id": "OaMVIKFwsFv9",
        "outputId": "ec9078de-8bcc-4181-f82d-d4145f55a74f"
      },
      "execution_count": 40,
      "outputs": [
        {
          "output_type": "display_data",
          "data": {
            "text/plain": [
              "<PIL.Image.Image image mode=RGB size=64x64>"
            ],
            "image/png": "[encoded data removed]"
          },
          "metadata": {}
        },
        {
          "output_type": "stream",
          "name": "stdout",
          "text": [
            "1/1 [==============================] - 0s 19ms/step\n",
            "The Traffic Sign is One way Traffic\n"
          ]
        }
      ]
    },
    {
      "cell_type": "code",
      "source": [],
      "metadata": {
        "id": "1f6xpN4m9wN7"
      },
      "execution_count": null,
      "outputs": []
    }
  ]
}